{
 "cells": [
  {
   "cell_type": "code",
   "execution_count": 16,
   "metadata": {
    "collapsed": true
   },
   "outputs": [],
   "source": [
    "import requests\n",
    "import json\n",
    "from datetime import datetime"
   ]
  },
  {
   "cell_type": "code",
   "execution_count": 2,
   "metadata": {
    "collapsed": true
   },
   "outputs": [],
   "source": [
    "def loadJobs():    \n",
    "    r = requests.get('https://jobs.github.com/positions.json?description=python')\n",
    "    return json.loads(r.content.decode('utf-8'))   \n",
    "    "
   ]
  },
  {
   "cell_type": "code",
   "execution_count": 3,
   "metadata": {
    "collapsed": true
   },
   "outputs": [],
   "source": [
    "def countLibraryPython(library,jobs):\n",
    "    sum=0\n",
    "    for job in jobs:\n",
    "        if(job['description'].find(library)!=-1):\n",
    "            sum+=1\n",
    "    return sum\n",
    "    "
   ]
  },
  {
   "cell_type": "code",
   "execution_count": 5,
   "metadata": {
    "collapsed": true
   },
   "outputs": [],
   "source": [
    "def returnJobsUK(location,jobs):\n",
    "    return list(filter(lambda x: (x['location'].find(location) != -1), jobs))"
   ]
  },
  {
   "cell_type": "code",
   "execution_count": 6,
   "metadata": {
    "collapsed": true
   },
   "outputs": [],
   "source": [
    "def returnBeforeDate(dateJobs,jobs):\n",
    "    return list(filter(lambda x:  datetime.strptime(x['created_at'], '%a %b %d %H:%M:%S UTC %Y').timestamp()<dateJobs.timestamp(), jobs))\n",
    "    "
   ]
  },
  {
   "cell_type": "code",
   "execution_count": 17,
   "metadata": {
    "collapsed": false
   },
   "outputs": [
    {
     "name": "stdout",
     "output_type": "stream",
     "text": [
      "Hay 6 ofertas que contienen la libreria Django\n",
      "Hay 2 ofertas que son en UK\n",
      "Hay 28 ofertas que son antes de la fecha dada\n"
     ]
    }
   ],
   "source": [
    "#Cargamos los trabajos\n",
    "jobs=loadJobs()\n",
    "#Numero de ofertas que cuenta contienen una libreria\n",
    "num=countLibraryPython('Django',jobs)\n",
    "print('Hay %i ofertas que contienen la libreria Django' %(num))\n",
    "\n",
    "#Trabajos que son en UK\n",
    "jobsUK=returnJobsUK('UK',jobs)\n",
    "print('Hay %i ofertas que son en UK' %(len(jobsUK)))\n",
    "\n",
    "#Ofertas antes de una fecha dada\n",
    "dt = datetime.strptime(\"Tue Dec 18 14:37:17 UTC 2018\", '%a %b %d %H:%M:%S UTC %Y')\n",
    "jobsDate = returnBeforeDate(dt,jobs)\n",
    "print('Hay %i ofertas que son antes de la fecha dada' %(len(jobsDate)))\n",
    "\n",
    "\n",
    "\n"
   ]
  }
 ],
 "metadata": {
  "anaconda-cloud": {},
  "kernelspec": {
   "display_name": "Python [conda root]",
   "language": "python",
   "name": "conda-root-py"
  },
  "language_info": {
   "codemirror_mode": {
    "name": "ipython",
    "version": 3
   },
   "file_extension": ".py",
   "mimetype": "text/x-python",
   "name": "python",
   "nbconvert_exporter": "python",
   "pygments_lexer": "ipython3",
   "version": "3.5.2"
  }
 },
 "nbformat": 4,
 "nbformat_minor": 1
}
