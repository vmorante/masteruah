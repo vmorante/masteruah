{
 "cells": [
  {
   "cell_type": "code",
   "execution_count": 3,
   "metadata": {
    "collapsed": false
   },
   "outputs": [],
   "source": [
    "import wget\n",
    "import os.path as path"
   ]
  },
  {
   "cell_type": "markdown",
   "metadata": {},
   "source": [
    "# Indicamos el numero de ficheros a descargar"
   ]
  },
  {
   "cell_type": "code",
   "execution_count": 7,
   "metadata": {
    "collapsed": false
   },
   "outputs": [
    {
     "name": "stdout",
     "output_type": "stream",
     "text": [
      "googlebooks-eng-all-2gram-20120701-1\n",
      "100% [....................................................................] 3126384441 / 3126384441"
     ]
    }
   ],
   "source": [
    "nombre=\"googlebooks-eng-all-2gram-20120701-\"\n",
    "url=\"http://storage.googleapis.com/books/ngrams/books/\"+nombre\n",
    "\n",
    "numFicherosDescargar=2\n",
    "for i in range(0,numFicherosDescargar):\n",
    "    nombreFichero = nombre+str(i)\n",
    "    if not (path.exists(nombreFichero)):       \n",
    "        wget.download(url+str(i)+\".gz\")"
   ]
  },
  {
   "cell_type": "markdown",
   "metadata": {},
   "source": [
    "## Recorremos los ficheros del directorio que tengan formato gzip, los descomprimimos y contamos las lineas"
   ]
  },
  {
   "cell_type": "code",
   "execution_count": 8,
   "metadata": {
    "collapsed": true
   },
   "outputs": [],
   "source": [
    "def descomprimir(nombreFichero,extension):\n",
    "    f = gzip.open(nombreFichero+extension, 'rb')\n",
    "    file_content = f.read()\n",
    "    with open(nombreFichero, 'wb') as v:\n",
    "        v.write(file_content)\n",
    "    f.close()"
   ]
  },
  {
   "cell_type": "code",
   "execution_count": 13,
   "metadata": {
    "collapsed": false
   },
   "outputs": [],
   "source": [
    "def devolverNumLines(nombreFichero):\n",
    "    with open(nombreFichero,encoding=\"utf8\") as y:\n",
    "        numLine= len(y.readlines())\n",
    "        print (\"El fichero %s tiene %i lineas\" % (nombreFichero,numLine))\n",
    "    y.close()\n",
    "    return numLine"
   ]
  },
  {
   "cell_type": "code",
   "execution_count": null,
   "metadata": {
    "collapsed": false
   },
   "outputs": [
    {
     "name": "stdout",
     "output_type": "stream",
     "text": [
      "Procesando googlebooks-eng-all-2gram-20120701-0.gz\n"
     ]
    }
   ],
   "source": [
    "import os\n",
    "import gzip\n",
    "\n",
    "directorioActual = os.getcwd()\n",
    "numLines=[]\n",
    "lstDir = os.walk(directorioActual)\n",
    "for root, dirs, files in lstDir:\n",
    "    for fichero in files:\n",
    "        (nombreFichero, extension) = os.path.splitext(fichero)\n",
    "        if(extension == \".gz\"):          \n",
    "            print (\"Procesando \" +nombreFichero+extension)\n",
    "            #Descomprimimos el fichero y contamos el numero de lineas\n",
    "            descomprimir(nombreFichero,extension)            \n",
    "            numLines.append(devolverNumLines(nombreFichero))\n",
    "           \n",
    "           "
   ]
  },
  {
   "cell_type": "markdown",
   "metadata": {
    "collapsed": true
   },
   "source": [
    "## Calculamos la media\n"
   ]
  },
  {
   "cell_type": "code",
   "execution_count": 23,
   "metadata": {
    "collapsed": false
   },
   "outputs": [
    {
     "name": "stdout",
     "output_type": "stream",
     "text": [
      "promedio  de lineas:\n",
      "87137792.0\n"
     ]
    }
   ],
   "source": [
    "import numpy as np\n",
    "print(\"promedio  de lineas:\")\n",
    "print(np.mean(numLines)) # \n",
    "    "
   ]
  },
  {
   "cell_type": "code",
   "execution_count": null,
   "metadata": {
    "collapsed": true
   },
   "outputs": [],
   "source": []
  }
 ],
 "metadata": {
  "anaconda-cloud": {},
  "kernelspec": {
   "display_name": "Python [conda root]",
   "language": "python",
   "name": "conda-root-py"
  }
 },
 "nbformat": 4,
 "nbformat_minor": 1
}
